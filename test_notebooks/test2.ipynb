{
 "cells": [
  {
   "cell_type": "code",
   "execution_count": 154,
   "id": "e6e7afba",
   "metadata": {},
   "outputs": [],
   "source": [
    "import numpy as np\n",
    "from ml_from_scratch.helpers import cls_to_idx, idx_to_cls"
   ]
  },
  {
   "cell_type": "code",
   "execution_count": 155,
   "id": "eaccc2c2",
   "metadata": {},
   "outputs": [
    {
     "name": "stdout",
     "output_type": "stream",
     "text": [
      "[0 2 1 0 1 2 0 2 2 0]\n"
     ]
    }
   ],
   "source": [
    "class_match = [\"iris-setosa\", \"iris-versicolor\", \"iris-virginica\"]\n",
    "indices = np.random.randint(0, 3, 10)\n",
    "print(indices)\n",
    "a = np.array(class_match)[indices]"
   ]
  },
  {
   "cell_type": "code",
   "execution_count": 156,
   "id": "e25aa8e9",
   "metadata": {},
   "outputs": [
    {
     "data": {
      "text/plain": [
       "array([0, 2, 1, 0, 1, 2, 0, 2, 2, 0])"
      ]
     },
     "execution_count": 156,
     "metadata": {},
     "output_type": "execute_result"
    }
   ],
   "source": [
    "np.vectorize(class_match.index)(a)"
   ]
  },
  {
   "cell_type": "code",
   "execution_count": 157,
   "id": "9ddc96b5",
   "metadata": {},
   "outputs": [
    {
     "data": {
      "text/plain": [
       "array([0, 0, 1, 2, 0, 1])"
      ]
     },
     "execution_count": 157,
     "metadata": {},
     "output_type": "execute_result"
    }
   ],
   "source": [
    "cls_to_idx([\"a\", \"a\", \"b\", \"c\", \"a\", \"b\"])"
   ]
  },
  {
   "cell_type": "code",
   "execution_count": 158,
   "id": "cbb82d6a",
   "metadata": {},
   "outputs": [
    {
     "data": {
      "text/plain": [
       "array(['a', 'a', 'b', 'c', 'a', 'b'], dtype='<U1')"
      ]
     },
     "execution_count": 158,
     "metadata": {},
     "output_type": "execute_result"
    }
   ],
   "source": [
    "idx_to_cls([\"a\", \"b\", \"c\"], [0, 0, 1, 2, 0, 1])"
   ]
  },
  {
   "cell_type": "code",
   "execution_count": 159,
   "id": "fb6a37fd",
   "metadata": {},
   "outputs": [
    {
     "data": {
      "text/plain": [
       "array([-1,  1,  2])"
      ]
     },
     "execution_count": 159,
     "metadata": {},
     "output_type": "execute_result"
    }
   ],
   "source": [
    "a = np.array([-1, 1, 2])\n",
    "a"
   ]
  },
  {
   "cell_type": "code",
   "execution_count": 160,
   "id": "a65227bf",
   "metadata": {},
   "outputs": [
    {
     "data": {
      "text/plain": [
       "array([[ 1.,  2.,  4.],\n",
       "       [ 3.,  4., -1.],\n",
       "       [ 4.,  1.,  2.]])"
      ]
     },
     "execution_count": 160,
     "metadata": {},
     "output_type": "execute_result"
    }
   ],
   "source": [
    "theta = np.array([[1, 2, 4],\n",
    "                  [3, 4, -1],\n",
    "                  [4, 1, 2]], dtype=np.float64)\n",
    "theta"
   ]
  },
  {
   "cell_type": "code",
   "execution_count": 161,
   "id": "a9dde853",
   "metadata": {},
   "outputs": [
    {
     "data": {
      "text/plain": [
       "array([10.,  4., -1.])"
      ]
     },
     "execution_count": 161,
     "metadata": {},
     "output_type": "execute_result"
    }
   ],
   "source": [
    "a @ theta"
   ]
  },
  {
   "cell_type": "code",
   "execution_count": 162,
   "id": "895d40a5",
   "metadata": {},
   "outputs": [
    {
     "data": {
      "text/plain": [
       "array([2, 1, 0])"
      ]
     },
     "execution_count": 162,
     "metadata": {},
     "output_type": "execute_result"
    }
   ],
   "source": [
    "np.argmax(theta, axis=1)"
   ]
  },
  {
   "cell_type": "code",
   "execution_count": 163,
   "id": "f906b4d0",
   "metadata": {},
   "outputs": [
    {
     "data": {
      "text/plain": [
       "array([4, 6])"
      ]
     },
     "execution_count": 163,
     "metadata": {},
     "output_type": "execute_result"
    }
   ],
   "source": [
    "np.sum(np.array([[1, 2],\n",
    "                 [3, 4]]), axis=0)"
   ]
  },
  {
   "cell_type": "code",
   "execution_count": 164,
   "id": "50daa286",
   "metadata": {},
   "outputs": [
    {
     "data": {
      "text/plain": [
       "array([[-1.22474487, -1.22474487, -0.88900089],\n",
       "       [ 0.        ,  0.        , -0.50800051],\n",
       "       [ 1.22474487,  1.22474487,  1.3970014 ]])"
      ]
     },
     "execution_count": 164,
     "metadata": {},
     "output_type": "execute_result"
    }
   ],
   "source": [
    "from ml_from_scratch.helpers import standardize\n",
    "\n",
    "b = np.array([[1, 2, 7],\n",
    "              [6, 7, 8],\n",
    "              [11, 12, 13]])\n",
    "b_std = standardize(b)\n",
    "b_std"
   ]
  },
  {
   "cell_type": "code",
   "execution_count": 165,
   "id": "ebe8944e",
   "metadata": {},
   "outputs": [
    {
     "data": {
      "text/plain": [
       "array([[-8.45498304, -8.23747012, -5.45223639],\n",
       "       [-2.03200203, -0.50800051, -1.01600102],\n",
       "       [10.48698507,  8.74547063,  6.46823741]])"
      ]
     },
     "execution_count": 165,
     "metadata": {},
     "output_type": "execute_result"
    }
   ],
   "source": [
    "res = b_std @ theta\n",
    "res"
   ]
  },
  {
   "cell_type": "code",
   "execution_count": 166,
   "id": "6d911542",
   "metadata": {},
   "outputs": [],
   "source": [
    "from ml_from_scratch.helpers import softmax, onehot"
   ]
  },
  {
   "cell_type": "code",
   "execution_count": 167,
   "id": "ad478d0e",
   "metadata": {},
   "outputs": [],
   "source": [
    "proba = softmax(res)"
   ]
  },
  {
   "cell_type": "code",
   "execution_count": 168,
   "id": "88a2990e",
   "metadata": {},
   "outputs": [],
   "source": [
    "y_true = np.array([2, 1, 0])"
   ]
  },
  {
   "cell_type": "markdown",
   "id": "b63207e6",
   "metadata": {},
   "source": [
    "### let's compute softmax grad"
   ]
  },
  {
   "cell_type": "code",
   "execution_count": 169,
   "id": "884ab8e3",
   "metadata": {},
   "outputs": [
    {
     "data": {
      "text/plain": [
       "array([[0.04467524, 0.0555305 , 0.89979426, 2.        ],\n",
       "       [0.11972199, 0.54959069, 0.33068732, 1.        ],\n",
       "       [0.83806122, 0.14687424, 0.01506454, 0.        ]])"
      ]
     },
     "execution_count": 169,
     "metadata": {},
     "output_type": "execute_result"
    }
   ],
   "source": [
    "np.c_[proba, y_true]"
   ]
  },
  {
   "cell_type": "code",
   "execution_count": 170,
   "id": "191b52fb",
   "metadata": {},
   "outputs": [],
   "source": [
    "n_features = b_std.shape[1]\n",
    "n_classes = theta.shape[0]"
   ]
  },
  {
   "cell_type": "code",
   "execution_count": 171,
   "id": "edc6405c",
   "metadata": {},
   "outputs": [],
   "source": [
    "class_k = 1"
   ]
  },
  {
   "cell_type": "code",
   "execution_count": 172,
   "id": "950567de",
   "metadata": {},
   "outputs": [
    {
     "data": {
      "text/plain": [
       "array([0.0555305 , 0.54959069, 0.14687424])"
      ]
     },
     "execution_count": 172,
     "metadata": {},
     "output_type": "execute_result"
    }
   ],
   "source": [
    "p_k = proba[:, class_k]\n",
    "p_k"
   ]
  },
  {
   "cell_type": "code",
   "execution_count": 173,
   "id": "df25ffe1",
   "metadata": {},
   "outputs": [
    {
     "data": {
      "text/plain": [
       "array([0., 1., 0.])"
      ]
     },
     "execution_count": 173,
     "metadata": {},
     "output_type": "execute_result"
    }
   ],
   "source": [
    "y_k = (y_true == class_k).astype(np.float64)\n",
    "y_k"
   ]
  },
  {
   "cell_type": "code",
   "execution_count": 174,
   "id": "d8567354",
   "metadata": {},
   "outputs": [],
   "source": [
    "m = b_std.shape[0]"
   ]
  },
  {
   "cell_type": "code",
   "execution_count": 175,
   "id": "0789f375",
   "metadata": {},
   "outputs": [
    {
     "data": {
      "text/plain": [
       "array([[0.04467524, 0.0555305 , 0.89979426],\n",
       "       [0.11972199, 0.54959069, 0.33068732],\n",
       "       [0.83806122, 0.14687424, 0.01506454]])"
      ]
     },
     "execution_count": 175,
     "metadata": {},
     "output_type": "execute_result"
    }
   ],
   "source": [
    "proba"
   ]
  },
  {
   "cell_type": "code",
   "execution_count": 176,
   "id": "ebf7fbd3",
   "metadata": {},
   "outputs": [],
   "source": [
    "y_onehot = onehot(y_true)"
   ]
  },
  {
   "cell_type": "code",
   "execution_count": 177,
   "id": "5d7ac4b3",
   "metadata": {},
   "outputs": [
    {
     "data": {
      "text/plain": [
       "array([[ 0.04467524,  0.0555305 , -0.10020574],\n",
       "       [ 0.11972199, -0.45040931,  0.33068732],\n",
       "       [-0.16193878,  0.14687424,  0.01506454]])"
      ]
     },
     "execution_count": 177,
     "metadata": {},
     "output_type": "execute_result"
    }
   ],
   "source": [
    "error = proba - y_onehot\n",
    "error"
   ]
  },
  {
   "cell_type": "code",
   "execution_count": 178,
   "id": "686e1fe0",
   "metadata": {},
   "outputs": [
    {
     "data": {
      "text/plain": [
       "array([[ 0.04467524,  0.11972199, -0.16193878],\n",
       "       [ 0.0555305 , -0.45040931,  0.14687424],\n",
       "       [-0.10020574,  0.33068732,  0.01506454]])"
      ]
     },
     "execution_count": 178,
     "metadata": {},
     "output_type": "execute_result"
    }
   ],
   "source": [
    "error.T"
   ]
  },
  {
   "cell_type": "code",
   "execution_count": 179,
   "id": "89abefe4",
   "metadata": {},
   "outputs": [
    {
     "data": {
      "text/plain": [
       "array([[ 0.04467524,  0.0555305 , -0.10020574],\n",
       "       [ 0.11972199, -0.45040931,  0.33068732],\n",
       "       [-0.16193878,  0.14687424,  0.01506454]])"
      ]
     },
     "execution_count": 179,
     "metadata": {},
     "output_type": "execute_result"
    }
   ],
   "source": [
    "error"
   ]
  },
  {
   "cell_type": "code",
   "execution_count": 180,
   "id": "c1d6355f",
   "metadata": {},
   "outputs": [
    {
     "data": {
      "text/plain": [
       "array([[-1.22474487, -1.22474487, -0.88900089],\n",
       "       [ 0.        ,  0.        , -0.50800051],\n",
       "       [ 1.22474487,  1.22474487,  1.3970014 ]])"
      ]
     },
     "execution_count": 180,
     "metadata": {},
     "output_type": "execute_result"
    }
   ],
   "source": [
    "b_std"
   ]
  },
  {
   "cell_type": "code",
   "execution_count": 181,
   "id": "30ed2672",
   "metadata": {},
   "outputs": [
    {
     "data": {
      "text/plain": [
       "array([[-0.08434982,  0.03729093,  0.04705889],\n",
       "       [-0.08434982,  0.03729093,  0.04705889],\n",
       "       [-0.10892129,  0.12820834, -0.01928705]])"
      ]
     },
     "execution_count": 181,
     "metadata": {},
     "output_type": "execute_result"
    }
   ],
   "source": [
    "nabla = (error.T @ b_std / m).T\n",
    "nabla"
   ]
  },
  {
   "cell_type": "code",
   "execution_count": 182,
   "id": "949eda24",
   "metadata": {},
   "outputs": [
    {
     "data": {
      "text/plain": [
       "array([ 0.0555305 , -0.45040931,  0.14687424])"
      ]
     },
     "execution_count": 182,
     "metadata": {},
     "output_type": "execute_result"
    }
   ],
   "source": [
    "error_k = p_k - y_k\n",
    "error_k"
   ]
  },
  {
   "cell_type": "code",
   "execution_count": 183,
   "id": "ea8e9b08",
   "metadata": {},
   "outputs": [
    {
     "data": {
      "text/plain": [
       "array([0.03729093, 0.03729093, 0.12820834])"
      ]
     },
     "execution_count": 183,
     "metadata": {},
     "output_type": "execute_result"
    }
   ],
   "source": [
    "nabla_k = error_k @ b_std / m\n",
    "nabla_k"
   ]
  },
  {
   "cell_type": "code",
   "execution_count": 184,
   "id": "ce024345",
   "metadata": {},
   "outputs": [
    {
     "data": {
      "text/plain": [
       "array([[ 1.,  2.,  4.],\n",
       "       [ 3.,  4., -1.],\n",
       "       [ 4.,  1.,  2.]])"
      ]
     },
     "execution_count": 184,
     "metadata": {},
     "output_type": "execute_result"
    }
   ],
   "source": [
    "theta"
   ]
  },
  {
   "cell_type": "code",
   "execution_count": 185,
   "id": "4a492bd4",
   "metadata": {},
   "outputs": [
    {
     "data": {
      "text/plain": [
       "array([[ 1.0008435 ,  1.99962709,  3.99952941],\n",
       "       [ 3.0008435 ,  3.99962709, -1.00047059],\n",
       "       [ 4.00108921,  0.99871792,  2.00019287]])"
      ]
     },
     "execution_count": 185,
     "metadata": {},
     "output_type": "execute_result"
    }
   ],
   "source": [
    "theta = theta - 0.01*nabla\n",
    "theta"
   ]
  }
 ],
 "metadata": {
  "kernelspec": {
   "display_name": "ml-from-scratch",
   "language": "python",
   "name": "python3"
  },
  "language_info": {
   "codemirror_mode": {
    "name": "ipython",
    "version": 3
   },
   "file_extension": ".py",
   "mimetype": "text/x-python",
   "name": "python",
   "nbconvert_exporter": "python",
   "pygments_lexer": "ipython3",
   "version": "3.11.11"
  }
 },
 "nbformat": 4,
 "nbformat_minor": 5
}
