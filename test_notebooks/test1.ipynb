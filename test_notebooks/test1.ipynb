{
 "cells": [
  {
   "cell_type": "code",
   "execution_count": 1,
   "id": "80c4da70",
   "metadata": {},
   "outputs": [],
   "source": [
    "import numpy as np\n",
    "import matplotlib.pyplot as plt"
   ]
  },
  {
   "cell_type": "code",
   "execution_count": 2,
   "id": "d286df78",
   "metadata": {},
   "outputs": [],
   "source": [
    "a = np.array([[2],\n",
    "              [3],\n",
    "              [4],\n",
    "              [5]])"
   ]
  },
  {
   "cell_type": "code",
   "execution_count": 3,
   "id": "1064fe79",
   "metadata": {},
   "outputs": [
    {
     "data": {
      "text/plain": [
       "array([[1],\n",
       "       [2],\n",
       "       [3],\n",
       "       [4],\n",
       "       [5]])"
      ]
     },
     "execution_count": 3,
     "metadata": {},
     "output_type": "execute_result"
    }
   ],
   "source": [
    "np.insert(a, 0, 1, axis=0)"
   ]
  },
  {
   "cell_type": "code",
   "execution_count": 4,
   "id": "67744ffb",
   "metadata": {},
   "outputs": [
    {
     "data": {
      "text/plain": [
       "array([[1.        ],\n",
       "       [0.14445294],\n",
       "       [0.72147937],\n",
       "       [0.81691412],\n",
       "       [0.44989608],\n",
       "       [0.61745226]])"
      ]
     },
     "execution_count": 4,
     "metadata": {},
     "output_type": "execute_result"
    }
   ],
   "source": [
    "np.vstack((np.array([[1]]), \n",
    "                             np.random.rand(5, 1)))"
   ]
  },
  {
   "cell_type": "code",
   "execution_count": 5,
   "id": "8a713221",
   "metadata": {},
   "outputs": [],
   "source": [
    "rng = np.random.default_rng(seed=1)"
   ]
  },
  {
   "cell_type": "code",
   "execution_count": 6,
   "id": "e62afae7",
   "metadata": {},
   "outputs": [],
   "source": [
    "n_samples = 101\n",
    "X = np.linspace(0, 30, n_samples).reshape(n_samples, 1)\n",
    "y = 2 * X + 3 + 16 * (rng.random((n_samples, 1))-0.5)"
   ]
  },
  {
   "cell_type": "code",
   "execution_count": 7,
   "id": "80557ad4",
   "metadata": {},
   "outputs": [
    {
     "data": {
      "text/plain": [
       "array([[1. , 0. ],\n",
       "       [1. , 0.3],\n",
       "       [1. , 0.6],\n",
       "       [1. , 0.9],\n",
       "       [1. , 1.2]])"
      ]
     },
     "execution_count": 7,
     "metadata": {},
     "output_type": "execute_result"
    }
   ],
   "source": [
    "X_padded = np.insert(X, 0, 1, axis=1)\n",
    "X_padded[:5, :]"
   ]
  },
  {
   "cell_type": "code",
   "execution_count": 8,
   "id": "c48a2f93",
   "metadata": {},
   "outputs": [
    {
     "data": {
      "text/plain": [
       "array([[0.43122675],\n",
       "       [0.86732051]])"
      ]
     },
     "execution_count": 8,
     "metadata": {},
     "output_type": "execute_result"
    }
   ],
   "source": [
    "theta = rng.random((2, 1))\n",
    "theta"
   ]
  },
  {
   "cell_type": "code",
   "execution_count": 9,
   "id": "60c5ed43",
   "metadata": {},
   "outputs": [
    {
     "data": {
      "text/plain": [
       "array([1.2118152])"
      ]
     },
     "execution_count": 9,
     "metadata": {},
     "output_type": "execute_result"
    }
   ],
   "source": [
    "theta.T @ X_padded[3]"
   ]
  },
  {
   "cell_type": "code",
   "execution_count": 10,
   "id": "587dcbfd",
   "metadata": {},
   "outputs": [
    {
     "data": {
      "text/plain": [
       "array([11.97839115])"
      ]
     },
     "execution_count": 10,
     "metadata": {},
     "output_type": "execute_result"
    }
   ],
   "source": [
    "y[3]"
   ]
  },
  {
   "cell_type": "code",
   "execution_count": 11,
   "id": "237faa97",
   "metadata": {},
   "outputs": [
    {
     "data": {
      "text/plain": [
       "array([[ 1.        ,  0.        ,  3.189146  ],\n",
       "       [ 1.        ,  0.3       , 10.80741914],\n",
       "       [ 1.        ,  0.6       , -1.4934462 ],\n",
       "       [ 1.        ,  0.9       , 11.97839115],\n",
       "       [ 1.        ,  1.2       ,  2.38930323],\n",
       "       [ 1.        ,  1.5       ,  4.77322318],\n",
       "       [ 1.        ,  1.8       , 11.8432415 ],\n",
       "       [ 1.        ,  2.1       ,  5.74718618],\n",
       "       [ 1.        ,  2.4       ,  8.593499  ],\n",
       "       [ 1.        ,  2.7       ,  0.84094581]])"
      ]
     },
     "execution_count": 11,
     "metadata": {},
     "output_type": "execute_result"
    }
   ],
   "source": [
    "np.c_[X_padded[:10], y[:10]]"
   ]
  },
  {
   "cell_type": "code",
   "execution_count": 12,
   "id": "d768c4b5",
   "metadata": {},
   "outputs": [
    {
     "data": {
      "text/plain": [
       "array([[ -2.75791925,   1.        ,   0.        ],\n",
       "       [-10.11599624,   1.        ,   0.3       ],\n",
       "       [  2.44506525,   1.        ,   0.6       ],\n",
       "       [-10.76657595,   1.        ,   0.9       ],\n",
       "       [ -0.91729188,   1.        ,   1.2       ]])"
      ]
     },
     "execution_count": 12,
     "metadata": {},
     "output_type": "execute_result"
    }
   ],
   "source": [
    "total_error = X_padded @ theta - y\n",
    "np.c_[total_error, X_padded][:5]"
   ]
  },
  {
   "cell_type": "code",
   "execution_count": 13,
   "id": "57f8e7d6",
   "metadata": {},
   "outputs": [
    {
     "data": {
      "text/plain": [
       "array([[ -1998.82773982],\n",
       "       [-38550.04797795]])"
      ]
     },
     "execution_count": 13,
     "metadata": {},
     "output_type": "execute_result"
    }
   ],
   "source": [
    "X_padded.T @ total_error"
   ]
  },
  {
   "cell_type": "code",
   "execution_count": 14,
   "id": "d2334a79",
   "metadata": {},
   "outputs": [],
   "source": [
    "def eta_schedule(n_epochs):\n",
    "    eta = 1e-2 / (1 + n_epochs)\n",
    "    return eta"
   ]
  },
  {
   "cell_type": "code",
   "execution_count": 15,
   "id": "05299af5",
   "metadata": {},
   "outputs": [
    {
     "data": {
      "image/png": "[encoded data removed]",
      "text/plain": [
       "<Figure size 640x480 with 1 Axes>"
      ]
     },
     "metadata": {},
     "output_type": "display_data"
    }
   ],
   "source": [
    "m = X_padded.shape[0]\n",
    "cumulative_eta = 0\n",
    "for generation in range(3):\n",
    "    y_pred = X_padded @ theta\n",
    "    rmse = np.round(np.linalg.norm(y_pred - y) / np.sqrt(m), 2)\n",
    "    plt.plot(X, y_pred, label=f\"{rmse}\")\n",
    "    for epoch in range(100):\n",
    "        eta = eta_schedule(100 * generation + epoch)\n",
    "        cumulative_eta += eta\n",
    "        total_error = X_padded @ theta - y\n",
    "        nabla = (2 / m) * X_padded.T@total_error\n",
    "        nabla = np.reshape(nabla, (2, 1))\n",
    "        theta = theta - eta * nabla\n",
    "\n",
    "plt.scatter(X, y, c=\"b\")\n",
    "plt.legend()\n",
    "plt.show()"
   ]
  },
  {
   "cell_type": "code",
   "execution_count": 16,
   "id": "378c032a",
   "metadata": {},
   "outputs": [
    {
     "data": {
      "text/plain": [
       "0.06282663880299506"
      ]
     },
     "execution_count": 16,
     "metadata": {},
     "output_type": "execute_result"
    }
   ],
   "source": [
    "cumulative_eta"
   ]
  }
 ],
 "metadata": {
  "kernelspec": {
   "display_name": "ml-from-scratch",
   "language": "python",
   "name": "python3"
  },
  "language_info": {
   "codemirror_mode": {
    "name": "ipython",
    "version": 3
   },
   "file_extension": ".py",
   "mimetype": "text/x-python",
   "name": "python",
   "nbconvert_exporter": "python",
   "pygments_lexer": "ipython3",
   "version": "3.11.11"
  }
 },
 "nbformat": 4,
 "nbformat_minor": 5
}
